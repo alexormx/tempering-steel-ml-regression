{
 "cells": [
  {
   "cell_type": "code",
   "execution_count": 9,
   "id": "9745e42b",
   "metadata": {},
   "outputs": [
    {
     "name": "stdout",
     "output_type": "stream",
     "text": [
      "Before dropping Initial HRC: (1466, 17)\n",
      "After dropping Initial HRC: (1466, 16)\n",
      "Before dropping NA: (1466, 16)\n",
      "After dropping NA: (1466, 16)\n",
      "Train shape: (879, 48)\n",
      "Validation shape: (293, 48)\n",
      "Test shape: (294, 48)\n",
      "✅ Data preprocessing completed and files saved.\n"
     ]
    }
   ],
   "source": [
    "# 02_preprocessing.ipynb\n",
    "\n",
    "# 📦 Imports\n",
    "import pandas as pd\n",
    "import numpy as np\n",
    "from sklearn.model_selection import train_test_split\n",
    "from sklearn.preprocessing import StandardScaler\n",
    "\n",
    "# 📥 Load the cleaned dataset\n",
    "df = pd.read_csv(\"../data/clean_tempering_data.csv\")\n",
    "\n",
    "# 🛠️ Impute missing values in predictor columns\n",
    "print(\"Before dropping Initial HRC:\", df.shape)\n",
    "df = df.drop(columns=['Initial hardness (HRC) - post quenching'])\n",
    "print(\"After dropping Initial HRC:\", df.shape)\n",
    "\n",
    "\n",
    "# 🧽 Remove rows with missing target\n",
    "print(\"Before dropping NA:\", df.shape)\n",
    "df = df.dropna(subset=['Final hardness (HRC) - post tempering'])\n",
    "print(\"After dropping NA:\", df.shape)\n",
    "\n",
    "# 🎯 Define features and target\n",
    "X = df.drop(columns=['Final hardness (HRC) - post tempering'])\n",
    "y = df['Final hardness (HRC) - post tempering']\n",
    "\n",
    "# 🔢 One-hot encode categorical variables\n",
    "X = pd.get_dummies(X, columns=['Steel type', 'Source'], drop_first=True)\n",
    "\n",
    "# 📊 Scale numerical features\n",
    "scaler = StandardScaler()\n",
    "X_scaled = scaler.fit_transform(X)\n",
    "X_scaled = pd.DataFrame(X_scaled, columns=X.columns)\n",
    "\n",
    "# ✂️ Train/Val/Test Split (60/20/20)\n",
    "X_trainval, X_test, y_trainval, y_test = train_test_split(\n",
    "    X_scaled, y, test_size=0.2, random_state=42\n",
    ")\n",
    "X_train, X_val, y_train, y_val = train_test_split(\n",
    "    X_trainval, y_trainval, test_size=0.25, random_state=42  # 0.25 x 0.8 = 0.2\n",
    ")\n",
    "\n",
    "# 🧪 Print shapes\n",
    "print(\"Train shape:\", X_train.shape)\n",
    "print(\"Validation shape:\", X_val.shape)\n",
    "print(\"Test shape:\", X_test.shape)\n",
    "\n",
    "# 💾 Save processed data to /processed_data\n",
    "import os\n",
    "os.makedirs(\"../processed_data\", exist_ok=True)\n",
    "\n",
    "X_train.to_csv(\"../processed_data/X_train.csv\", index=False)\n",
    "X_val.to_csv(\"../processed_data/X_val.csv\", index=False)\n",
    "X_test.to_csv(\"../processed_data/X_test.csv\", index=False)\n",
    "y_train.to_csv(\"../processed_data/y_train.csv\", index=False)\n",
    "y_val.to_csv(\"../processed_data/y_val.csv\", index=False)\n",
    "y_test.to_csv(\"../processed_data/y_test.csv\", index=False)\n",
    "\n",
    "print(\"✅ Data preprocessing completed and files saved.\")\n"
   ]
  }
 ],
 "metadata": {
  "kernelspec": {
   "display_name": "venv_39",
   "language": "python",
   "name": "python3"
  },
  "language_info": {
   "codemirror_mode": {
    "name": "ipython",
    "version": 3
   },
   "file_extension": ".py",
   "mimetype": "text/x-python",
   "name": "python",
   "nbconvert_exporter": "python",
   "pygments_lexer": "ipython3",
   "version": "3.9.23"
  }
 },
 "nbformat": 4,
 "nbformat_minor": 5
}
